{
 "cells": [
  {
   "cell_type": "code",
   "execution_count": 8,
   "id": "ideal-scale",
   "metadata": {},
   "outputs": [],
   "source": [
    "class Test:\n",
    "    def __init__(self):\n",
    "        print( ' init ')"
   ]
  },
  {
   "cell_type": "code",
   "execution_count": 9,
   "id": "tender-planning",
   "metadata": {},
   "outputs": [],
   "source": [
    "class Test(Test):\n",
    "    def printit( self ):\n",
    "        print( 'printit')"
   ]
  },
  {
   "cell_type": "code",
   "execution_count": null,
   "id": "collaborative-export",
   "metadata": {},
   "outputs": [],
   "source": []
  },
  {
   "cell_type": "code",
   "execution_count": 10,
   "id": "atlantic-sixth",
   "metadata": {},
   "outputs": [
    {
     "name": "stdout",
     "output_type": "stream",
     "text": [
      " init \n",
      "printit\n"
     ]
    }
   ],
   "source": [
    "test = Test()\n",
    "test.printit()"
   ]
  },
  {
   "cell_type": "code",
   "execution_count": null,
   "id": "circular-pointer",
   "metadata": {},
   "outputs": [],
   "source": []
  }
 ],
 "metadata": {
  "kernelspec": {
   "display_name": "Python 3",
   "language": "python",
   "name": "python3"
  },
  "language_info": {
   "codemirror_mode": {
    "name": "ipython",
    "version": 3
   },
   "file_extension": ".py",
   "mimetype": "text/x-python",
   "name": "python",
   "nbconvert_exporter": "python",
   "pygments_lexer": "ipython3",
   "version": "3.8.2"
  }
 },
 "nbformat": 4,
 "nbformat_minor": 5
}
