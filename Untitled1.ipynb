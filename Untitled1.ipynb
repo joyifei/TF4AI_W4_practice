{
 "cells": [
  {
   "cell_type": "code",
   "execution_count": null,
   "id": "velvet-wagner",
   "metadata": {},
   "outputs": [
    {
     "name": "stdout",
     "output_type": "stream",
     "text": [
      "Hellow\n",
      "Hellow\n"
     ]
    }
   ],
   "source": [
    "demo = [1,2,3]\n",
    "for i in demo:\n",
    "    print( \"Hellow\")"
   ]
  },
  {
   "cell_type": "code",
   "execution_count": null,
   "id": "prerequisite-destruction",
   "metadata": {},
   "outputs": [],
   "source": []
  }
 ],
 "metadata": {
  "kernelspec": {
   "display_name": "Python 3.8 (XPython)",
   "language": "python",
   "name": "xpython"
  },
  "language_info": {
   "file_extension": ".py",
   "mimetype": "text/x-python",
   "name": "python",
   "version": "3.8.8"
  }
 },
 "nbformat": 4,
 "nbformat_minor": 5
}
