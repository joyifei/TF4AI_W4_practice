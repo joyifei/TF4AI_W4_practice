{
 "cells": [
  {
   "cell_type": "code",
   "execution_count": null,
   "id": "2917ddf5-261f-46b6-a27d-b410062903db",
   "metadata": {},
   "outputs": [],
   "source": [
    "try:\n",
    "    # %tensorflow_version only exists in Colab.\n",
    "    %tensorflow_version 2.x\n",
    "except Exception:\n",
    "    pass\n",
    "\n",
    "import tensorflow as tf\n",
    "import numpy as np"
   ]
  },
  {
   "cell_type": "code",
   "execution_count": null,
   "id": "3024012b-0bed-47fc-853c-6da3dbeeb2bb",
   "metadata": {},
   "outputs": [],
   "source": [
    "# Create a 1D uint8 NumPy array comprising of first 25 natural numbers\n",
    "input_tf = np.arange(0, 24)\n",
    "nodes = 4\n",
    "input_tf = tf.Variable( input_tf, dtype=tf.float32 )\n",
    "input_tf = tf.reshape( input_tf, [-1, nodes, 3])\n",
    "print( input_tf )\n",
    "input_dist = input_tf[:,:,:2]\n",
    "print( input_dist )\n",
    "\n",
    "# Square the input tensor x\n",
    "temp = tf.square(input_dist)\n",
    "square_input = tf.reduce_sum(input_tensor = temp, axis=2)\n",
    "print( temp )\n",
    "print(square_input)\n",
    "#x = tf.reshape( x, [2, 3, 2])\n",
    "#x\n",
    "# Reshape tensor x into a 5 x 5 matrix. \n",
    "row = tf.reshape( square_input, [-1,1, nodes])\n",
    "col = tf.reshape( square_input, [-1, nodes, 1])\n",
    "temp2 = tf.matmul(input_dist, input_dist, False, True )\n",
    "temp3 = tf.maximum( row - 2 * temp2  + col, 0.0)\n",
    "dist_matrix = tf.sqrt( temp3 )\n",
    "#print( row )\n",
    "#print( col )\n",
    "#print( temp2 )\n",
    "#print( temp3 )\n",
    "#print( dist_matrix )\n",
    "not_masked = tf.ones_like( dist_matrix, )\n",
    "not_masked"
   ]
  }
 ],
 "metadata": {
  "kernelspec": {
   "display_name": "Python 3.8 (XPython)",
   "language": "python",
   "name": "xpython"
  },
  "language_info": {
   "file_extension": ".py",
   "mimetype": "text/x-python",
   "name": "python",
   "version": "3.8.10"
  }
 },
 "nbformat": 4,
 "nbformat_minor": 5
}
