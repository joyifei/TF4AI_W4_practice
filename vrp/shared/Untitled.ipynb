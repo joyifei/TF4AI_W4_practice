{
 "cells": [
  {
   "cell_type": "code",
   "execution_count": 17,
   "id": "37c0caf2-1771-499e-8d67-7b9e3caac2f0",
   "metadata": {},
   "outputs": [
    {
     "name": "stdout",
     "output_type": "stream",
     "text": [
      " diagnoal:  [[0 0 0 0]\n",
      " [0 0 0 0]]\n",
      "[[1 1 1 1]\n",
      " [5 5 5 5]]\n",
      "[[[1 1 1 1]\n",
      "  [2 2 2 2]\n",
      "  [3 3 3 3]\n",
      "  [4 4 4 4]]\n",
      "\n",
      " [[5 5 5 5]\n",
      "  [6 6 6 6]\n",
      "  [7 7 7 7]\n",
      "  [8 8 8 8]]]\n",
      "[[[0 1 1 1]\n",
      "  [2 0 2 2]\n",
      "  [3 3 0 3]\n",
      "  [4 4 4 0]]\n",
      "\n",
      " [[0 5 5 5]\n",
      "  [6 0 6 6]\n",
      "  [7 7 0 7]\n",
      "  [8 8 8 0]]]\n",
      "[[1 1 1 1 1 1 1 1 1 1 1 1 1 1 1 1 1 1 1 1]\n",
      " [4 4 4 4 4 4 4 4 4 4 4 4 4 4 4 4 4 4 4 4]\n",
      " [1 1 1 1 1 1 1 1 1 1 1 1 1 1 1 1 1 1 1 1]\n",
      " [4 4 4 4 4 4 4 4 4 4 4 4 4 4 4 4 4 4 4 4]]\n"
     ]
    }
   ],
   "source": [
    "import tensorflow as tf\n",
    "import numpy as np\n",
    "\n",
    "inputarr = np.array([[[1,1,1,1],              # Input shape: (2, 3, 4)\n",
    "                   [2,2,2,2],\n",
    "                   [3,3,3,3],\n",
    "                   [4,4,4,4]],\n",
    "                  [[5,5,5,5],\n",
    "                   [6,6,6,6],\n",
    "                   [7, 7, 7, 7],\n",
    "                   [8,8,8,8]]])\n",
    "diagonal = tf.zeros_like(inputarr[:,:,0] )\n",
    "print( ' diagnoal: ', diagonal.numpy())\n",
    "treated = tf.linalg.set_diag(inputarr, diagonal)\n",
    "\n",
    "print( inputarr[:,0])\n",
    "print( inputarr )\n",
    "print( treated.numpy())\n",
    "\n",
    "test = tf.constant([[1],[4]])\n",
    "tiled = tf.tile( test, [2,20])\n",
    "print( tiled.numpy())"
   ]
  },
  {
   "cell_type": "code",
   "execution_count": null,
   "id": "b7debb86-9e1e-4522-a8cc-c11ce6328f50",
   "metadata": {},
   "outputs": [],
   "source": [
    "list_num_incoming_ege =[]\n",
    "condition = np.array( [[[ True,  True, False],\n",
    "              [ False,  True,  True]],\n",
    "             [[ True,  True, False],\n",
    "              [ True,  False,  True]]])\n",
    "batch_features = tf.reshape(condition,[-1,3])\n",
    "temp = tf.compat.v1.where( condition )\n",
    "temp1 = temp[:,0]\n",
    "offset = 11 * temp1\n",
    "expanded_offset = tf.expand_dims( offset, axis = 1)\n",
    "tiling = tf.tile( expanded_offset, [1,2])\n",
    "temp2 = temp[:,1:3]\n",
    "true_indices_nodes = tiling + temp2\n",
    "num_incoming = tf.reduce_sum(input_tensor=tf.cast(condition,dtype=tf.int32), axis=1)\n",
    "num_incoming.shape\n",
    "reshaped = tf.reshape( num_incoming, [1,6])\n",
    "squeezed = tf.squeeze( reshaped )\n",
    "not_masked = tf.ones_like(condition,dtype=tf.bool)\n",
    "temp3 = tf.zeros_like(not_masked[0,:,0:2])\n",
    "diag_zero = tf.linalg.set_diag(not_masked, temp3 )\n",
    "list_num_incoming_ege.append( squeezed)\n",
    "list_num_incoming_ege.append( squeezed)\n",
    "final = tf.stack( list_num_incoming_ege)\n",
    "print( temp )"
   ]
  },
  {
   "cell_type": "code",
   "execution_count": null,
   "id": "7d26c2f9-9691-456a-9b71-250e10366b65",
   "metadata": {},
   "outputs": [],
   "source": []
  },
  {
   "cell_type": "code",
   "execution_count": null,
   "id": "b3b40f6e-0983-4641-937b-028968611162",
   "metadata": {},
   "outputs": [],
   "source": [
    "x = tf.expand_dims( tf.cast( tf.range(  6), tf.int64), axis=1 )\n",
    "y = tf.random.uniform([4,1])\n",
    "y = tf.tile( y,[1,3])\n",
    "print(x)"
   ]
  },
  {
   "cell_type": "code",
   "execution_count": null,
   "id": "2344359b-40a7-412c-ab62-aa1f7398788b",
   "metadata": {},
   "outputs": [],
   "source": [
    "def dynamic_rnn(rnn_type='lstm'):\n",
    "    # 创建输入数据,3代表batch size,6代表输入序列的最大步长(max time),4代表每个序列的维度\n",
    "    X = np.random.randn(7, 6, 4)\n",
    " \n",
    "    # 第二个输入的实际长度为4\n",
    "    X[1, 4:] = 0\n",
    " \n",
    "    #记录三个输入的实际步长\n",
    "    X_lengths = [6, 4, 6]\n",
    " \n",
    "    rnn_hidden_size = 5\n",
    "    if rnn_type == 'lstm':\n",
    "        cell = tf.compat.v1.nn.rnn_cell.BasicLSTMCell(num_units=rnn_hidden_size, state_is_tuple=True)\n",
    "    else:\n",
    "        cell = tf.compat.v1.nn.rnn_cell.GRUCell(num_units=rnn_hidden_size)\n",
    " \n",
    "    outputs, last_states = tf.compat.v1.nn.dynamic_rnn(\n",
    "        cell=cell,\n",
    "        dtype=tf.float64,\n",
    "        #sequence_length=X_lengths,\n",
    "        inputs=X)\n",
    " \n",
    "    with tf.compat.v1.Session() as session:\n",
    "        session.run(tf.compat.v1.global_variables_initializer())\n",
    "        o1, s1 = session.run([outputs, last_states])\n",
    "        print(np.shape(o1))\n",
    "        print(o1)\n",
    "        print(np.shape(s1))\n",
    "        print(s1)\n",
    " \n",
    "if __name__ == '__main__':\n",
    "    tf.compat.v1.disable_eager_execution()\n",
    "    dynamic_rnn(rnn_type='lstm')"
   ]
  },
  {
   "cell_type": "code",
   "execution_count": null,
   "id": "8ea20b39-ed9a-4321-b1ca-7f395b2e20c0",
   "metadata": {},
   "outputs": [],
   "source": []
  }
 ],
 "metadata": {
  "kernelspec": {
   "display_name": "Python 3.8 (XPython)",
   "language": "python",
   "name": "xpython"
  },
  "language_info": {
   "file_extension": ".py",
   "mimetype": "text/x-python",
   "name": "python",
   "version": "3.8.8"
  }
 },
 "nbformat": 4,
 "nbformat_minor": 5
}
