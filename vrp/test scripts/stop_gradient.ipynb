{
 "cells": [
  {
   "cell_type": "code",
   "execution_count": 3,
   "id": "9fb4a964-9a23-4b90-aac3-ba88913b27f1",
   "metadata": {},
   "outputs": [],
   "source": [
    "import numpy as np\n",
    "import tensorflow as tf"
   ]
  },
  {
   "cell_type": "code",
   "execution_count": 4,
   "id": "cbac3f59-884c-47b3-80b2-6e9ca86d5e99",
   "metadata": {},
   "outputs": [
    {
     "name": "stdout",
     "output_type": "stream",
     "text": [
      "epoch: 0 \t loss: 65.82465362548828 \t gradients: 1.0202831029891968\n",
      "epoch: 1 \t loss: 12.04901123046875 \t gradients: 1.011605143547058\n",
      "epoch: 2 \t loss: 11.89420223236084 \t gradients: 1.0202271938323975\n",
      "epoch: 3 \t loss: 0.014294319786131382 \t gradients: 1.0205260515213013\n",
      "epoch: 4 \t loss: 0.036915939301252365 \t gradients: 1.0210063457489014\n",
      "epoch: 5 \t loss: 0.1438128799200058 \t gradients: 1.0219544172286987\n",
      "epoch: 6 \t loss: 1.4223363399505615 \t gradients: 1.0249359607696533\n",
      "epoch: 7 \t loss: 0.10600660741329193 \t gradients: 1.025749921798706\n",
      "epoch: 8 \t loss: 1.8369232416152954 \t gradients: 1.0223616361618042\n",
      "epoch: 9 \t loss: 2.3172600269317627 \t gradients: 1.0261672735214233\n",
      "epoch: 10 \t loss: 2.34940767288208 \t gradients: 1.0223352909088135\n",
      "epoch: 11 \t loss: 0.023119788616895676 \t gradients: 1.022715449333191\n",
      "epoch: 12 \t loss: 0.000634361756965518 \t gradients: 1.022652506828308\n",
      "epoch: 13 \t loss: 0.0035985626745969057 \t gradients: 1.022802472114563\n",
      "epoch: 14 \t loss: 0.00022435272694565356 \t gradients: 1.022839903831482\n",
      "epoch: 15 \t loss: 0.00031994888558983803 \t gradients: 1.0228846073150635\n",
      "epoch: 16 \t loss: 6.244389805942774e-05 \t gradients: 1.022864818572998\n",
      "epoch: 17 \t loss: 0.00018040651048067957 \t gradients: 1.0228984355926514\n",
      "epoch: 18 \t loss: 0.006193550303578377 \t gradients: 1.0230951309204102\n",
      "epoch: 19 \t loss: 0.004627480637282133 \t gradients: 1.0229250192642212\n"
     ]
    }
   ],
   "source": [
    " \n",
    "tf.compat.v1.disable_eager_execution()\n",
    "#构造数据集\n",
    "x_pure = np.random.randint(-10, 100, 32)\n",
    "t1 = np.random.randn(32) \n",
    "x_train = x_pure + t1 / 32\n",
    "y_train = 3 * x_pure + 2 + np.random.randn(32) / 32\n",
    " \n",
    "x_input = tf.compat.v1.placeholder(tf.float32, name='x_input')\n",
    "y_input = tf.compat.v1.placeholder(tf.float32, name='y_input')\n",
    "w = tf.Variable(2.0, name='weight')\n",
    "b = tf.Variable(1.0, name='biases')\n",
    "y = tf.add(tf.multiply(x_input, w), b)\n",
    " \n",
    "loss_op = tf.reduce_sum(tf.pow(y_input - y, 2)) / (2 * 32)\n",
    "grad_w, grad_b = tf.gradients( loss_op, [w,b])\n",
    "new_w = w.assign( w - 0.01 * grad_w)\n",
    "new_b = b.assign( b - 0.01 * grad_b)\n",
    "#train_op = tf.compat.v1.train.GradientDescentOptimizer(0.01).minimize(loss_op)\n",
    "#gradients_node = tf.gradients(loss_op, w)\n",
    " \n",
    "sess = tf.compat.v1.Session()\n",
    "init = tf.compat.v1.global_variables_initializer()\n",
    "sess.run(init)\n",
    " \n",
    "for i in range(20):\n",
    " _, gradients, loss = sess.run([new_w, new_b, loss_op], feed_dict={x_input: x_train[i], y_input: y_train[i]})\n",
    " print(\"epoch: {} \\t loss: {} \\t gradients: {}\".format(i, loss, gradients))\n",
    "sess.close()"
   ]
  },
  {
   "cell_type": "code",
   "execution_count": 6,
   "id": "b3a857a1-289e-429e-a58b-1ae0a4c6c4e7",
   "metadata": {},
   "outputs": [],
   "source": [
    "import numpy as np\n",
    "import tensorflow as tf\n",
    " \n",
    "a = tf.constant(0.)\n",
    "a_stopped = tf.stop_gradient(a)\n",
    "b = 2 * a_stopped\n",
    "c = a + b\n",
    "g = tf.gradients(c, [a, b])\n",
    " \n",
    "with tf.compat.v1.Session() as sess:\n",
    " tf.compat.v1.global_variables_initializer().run()\n",
    " result = sess.run(g)\n"
   ]
  },
  {
   "cell_type": "code",
   "execution_count": 19,
   "id": "064887c1-7108-41b4-93e4-f7bd5a3b1264",
   "metadata": {},
   "outputs": [
    {
     "name": "stdout",
     "output_type": "stream",
     "text": [
      "[None, <tf.Tensor 'gradients_24/Mul_36_grad/Mul_1:0' shape=() dtype=float32>]\n",
      "[1.0, 1.0, 1.0, 1.0]\n"
     ]
    }
   ],
   "source": [
    "w1 = tf.Variable(2.0)\n",
    "w2 = tf.Variable(2.0)\n",
    "a = tf.multiply(w1, 3.0)\n",
    "a_stoped = tf.stop_gradient(a)\n",
    " \n",
    "# b=w1*3.0*w2\n",
    "b = tf.multiply(a_stoped, w2)\n",
    "gradients = tf.gradients(b, xs=[w1, w2])\n",
    "print(gradients)\n",
    "#输出[None, <tf.Tensor 'gradients/Mul_1_grad/Reshape_1:0' shape=() dtype=float32>]\n",
    " \n",
    "#实验二\n",
    "a = tf.Variable(1.0)\n",
    "b = tf.Variable(1.0)\n",
    "f = tf.Variable(1.0)\n",
    "c = a * 3.0 + f\n",
    "c_stoped = tf.stop_gradient(c)\n",
    "d = tf.add(a, b) + f\n",
    "e = tf.add(c_stoped, d)\n",
    "gradients = tf.gradients(e, xs=[c_stoped,a, b, f])\n",
    "with tf.compat.v1.Session() as sess:\n",
    " tf.compat.v1.global_variables_initializer().run()\n",
    " print(sess.run(gradients))"
   ]
  },
  {
   "cell_type": "code",
   "execution_count": null,
   "id": "fe25fc1c-34ab-4447-8e72-ff0478500bf7",
   "metadata": {},
   "outputs": [],
   "source": []
  }
 ],
 "metadata": {
  "kernelspec": {
   "display_name": "Python 3.8 (XPython)",
   "language": "python",
   "name": "xpython"
  },
  "language_info": {
   "file_extension": ".py",
   "mimetype": "text/x-python",
   "name": "python",
   "version": "3.8.8"
  }
 },
 "nbformat": 4,
 "nbformat_minor": 5
}
